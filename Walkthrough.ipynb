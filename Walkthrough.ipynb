{
 "cells": [
  {
   "cell_type": "code",
   "execution_count": 3,
   "id": "336a5a85-fb98-4ba2-a4d6-9bb27ffb708f",
   "metadata": {},
   "outputs": [],
   "source": [
    "import DisorderFromAlphaFold as DISORDER\n",
    "from Bio.PDB import PDBParser\n",
    "parser = PDBParser()\n",
    "\n",
    "pLDDT_THRESHOLD = 70\n",
    "CONSECUTIVE_DISORDER_THRESHOLD = 20\n",
    "\n",
    "pdb_path = './../pnas_datasets/llps_minus_PDBs/AF-O60563-F1-model_v4.pdb'"
   ]
  },
  {
   "cell_type": "code",
   "execution_count": 4,
   "id": "331eef22-ddd2-48b0-8d07-4a7c6beb5fa0",
   "metadata": {},
   "outputs": [],
   "source": [
    "test_structure = parser.get_structure('test_structure', pdb_path)\n",
    "test_model = test_structure[0]"
   ]
  },
  {
   "cell_type": "code",
   "execution_count": 8,
   "id": "72f800a2-646e-4d09-887d-6c4e2ed38805",
   "metadata": {},
   "outputs": [
    {
     "name": "stdout",
     "output_type": "stream",
     "text": [
      "726 residues, 452 of which 'disordered'\n"
     ]
    }
   ],
   "source": [
    "# Investigate pLDDT\n",
    "pLDDTs = DISORDER.getpLDDTsSubSequenceFromAlphaFoldPDBModel(test_model, startRes=None, endRes=None)\n",
    "pLDDTs_belowThreshold = pLDDTs[pLDDTs <= pLDDT_THRESHOLD]\n",
    "print(f'{len(pLDDTs)} residues, {len(pLDDTs_belowThreshold)} of which \\'disordered\\' (below pLDDT threshold)')"
   ]
  },
  {
   "cell_type": "code",
   "execution_count": 11,
   "id": "08c29c89-b82f-4d16-8d55-f265e4d88fd6",
   "metadata": {},
   "outputs": [
    {
     "name": "stdout",
     "output_type": "stream",
     "text": [
      "452 'disordered' residues spread across 6 'disordered' stretches\n"
     ]
    }
   ],
   "source": [
    "# Find consecutive pLDDT below threshold\n",
    "consecutiveDisorderLengths = DISORDER.getConsecutiveDisorderLengthsFrompLDDTs(pLDDTs, pLDDT_THRESHOLD)\n",
    "print(f'{sum(consecutiveDisorderLengths)} \\'disordered\\' residues spread across {len(consecutiveDisorderLengths)} \\'disordered\\' stretches')"
   ]
  },
  {
   "cell_type": "code",
   "execution_count": 12,
   "id": "08ee45af-c381-4e1a-98ab-e1c0233ce579",
   "metadata": {},
   "outputs": [
    {
     "name": "stdout",
     "output_type": "stream",
     "text": [
      "2 stretches above minimum length of 20 residues, containing 436 residues overall\n"
     ]
    }
   ],
   "source": [
    "# Filter for lengths above threshold to get a fraction\n",
    "disorderedFraction, disorderedLengthsFiltered = DISORDER.getDisorderedFractionFrompLDDTs(pLDDTs, pLDDT_THRESHOLD, CONSECUTIVE_DISORDER_THRESHOLD)\n",
    "print(f'{len(disorderedLengthsFiltered)} stretches above minimum length of {CONSECUTIVE_DISORDER_THRESHOLD} residues, containing {sum(disorderedLengthsFiltered)} residues overall')"
   ]
  },
  {
   "cell_type": "code",
   "execution_count": 14,
   "id": "d1be75f5-3243-489e-9cac-81c1a55b1b61",
   "metadata": {},
   "outputs": [
    {
     "name": "stdout",
     "output_type": "stream",
     "text": [
      "This gives a 'disorder' fraction of 60.1%\n"
     ]
    }
   ],
   "source": [
    "print(f'This gives a \\'disorder\\' fraction of {100*disorderedFraction:0.1f}%')"
   ]
  }
 ],
 "metadata": {
  "kernelspec": {
   "display_name": "Python [conda env:bio_play]",
   "language": "python",
   "name": "conda-env-bio_play-py"
  },
  "language_info": {
   "codemirror_mode": {
    "name": "ipython",
    "version": 3
   },
   "file_extension": ".py",
   "mimetype": "text/x-python",
   "name": "python",
   "nbconvert_exporter": "python",
   "pygments_lexer": "ipython3",
   "version": "3.10.8"
  }
 },
 "nbformat": 4,
 "nbformat_minor": 5
}
