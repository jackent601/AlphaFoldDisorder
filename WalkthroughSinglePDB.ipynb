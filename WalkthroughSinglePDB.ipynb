{
 "cells": [
  {
   "cell_type": "code",
   "execution_count": 1,
   "id": "336a5a85-fb98-4ba2-a4d6-9bb27ffb708f",
   "metadata": {},
   "outputs": [],
   "source": [
    "import DisorderFromAlphaFold as DISORDER\n",
    "from Bio.PDB import PDBParser\n",
    "parser = PDBParser()\n",
    "\n",
    "pLDDT_THRESHOLD = 70\n",
    "CONSECUTIVE_DISORDER_THRESHOLD = 20\n",
    "\n",
    "pdb_path = './TestsAndDemo/test_AF-O60563-F1-model_v4.pdb'"
   ]
  },
  {
   "cell_type": "code",
   "execution_count": 2,
   "id": "331eef22-ddd2-48b0-8d07-4a7c6beb5fa0",
   "metadata": {},
   "outputs": [],
   "source": [
    "test_structure = parser.get_structure('test_structure', pdb_path)\n",
    "test_model = test_structure[0]"
   ]
  },
  {
   "cell_type": "markdown",
   "id": "1acbb52c-bd00-4fd0-878c-77431d907e42",
   "metadata": {},
   "source": [
    "##### Test functions on a full sequence match"
   ]
  },
  {
   "cell_type": "code",
   "execution_count": 3,
   "id": "72f800a2-646e-4d09-887d-6c4e2ed38805",
   "metadata": {},
   "outputs": [
    {
     "name": "stdout",
     "output_type": "stream",
     "text": [
      "726 residues, 452 of which 'disordered' (below pLDDT threshold)\n"
     ]
    }
   ],
   "source": [
    "# Investigate pLDDT\n",
    "pLDDTs = DISORDER.getpLDDTsSubSequenceFromAlphaFoldPDBModel(test_model, \n",
    "                                                            startRes=None, \n",
    "                                                            endRes=None)\n",
    "pLDDTs_belowThreshold = pLDDTs[pLDDTs <= pLDDT_THRESHOLD]\n",
    "print(f'{len(pLDDTs)} residues, {len(pLDDTs_belowThreshold)} of which \\'disordered\\' (below pLDDT threshold)')"
   ]
  },
  {
   "cell_type": "code",
   "execution_count": 4,
   "id": "08c29c89-b82f-4d16-8d55-f265e4d88fd6",
   "metadata": {},
   "outputs": [
    {
     "name": "stdout",
     "output_type": "stream",
     "text": [
      "452 'disordered' residuesspread across 6 'disordered' stretches\n"
     ]
    }
   ],
   "source": [
    "# Find consecutive pLDDT below threshold\n",
    "consecutiveDisorderIndices, consecutiveDisorderLengths = DISORDER.getConsecutiveDisorderedFrompLDDTs(pLDDTs, \n",
    "                                                                                                     pLDDT_THRESHOLD)\n",
    "_debug = f'{sum(consecutiveDisorderLengths)} \\'disordered\\' residues'\n",
    "_debug += f'spread across {len(consecutiveDisorderLengths)} \\'disordered\\' stretches'\n",
    "print(_debug)"
   ]
  },
  {
   "cell_type": "code",
   "execution_count": 5,
   "id": "08ee45af-c381-4e1a-98ab-e1c0233ce579",
   "metadata": {},
   "outputs": [
    {
     "name": "stdout",
     "output_type": "stream",
     "text": [
      "2 stretches above minimum length of 20 residues, containing 436 residues overall\n"
     ]
    }
   ],
   "source": [
    "# Filter for lengths above threshold to get a fraction\n",
    "disorderedFraction, disorderedLengthsFiltered = DISORDER.getDisorderedFractionFrompLDDTs(pLDDTs, \n",
    "                                                                                         pLDDT_THRESHOLD, \n",
    "                                                                                         CONSECUTIVE_DISORDER_THRESHOLD)\n",
    "_debug = f'{len(disorderedLengthsFiltered)} stretches above minimum length of {CONSECUTIVE_DISORDER_THRESHOLD} residues'\n",
    "_debug += f', containing {sum(disorderedLengthsFiltered)} residues overall'\n",
    "print(_debug)"
   ]
  },
  {
   "cell_type": "code",
   "execution_count": 6,
   "id": "d1be75f5-3243-489e-9cac-81c1a55b1b61",
   "metadata": {},
   "outputs": [
    {
     "name": "stdout",
     "output_type": "stream",
     "text": [
      "This gives a 'disorder' fraction of 60.1%\n"
     ]
    }
   ],
   "source": [
    "# Do the same but directly from pdb path\n",
    "dFrac, dLengths = DISORDER.getDisorderedFractionFromPDB(pdb_path, \n",
    "                                                        pLDDT_THRESHOLD, \n",
    "                                                        CONSECUTIVE_DISORDER_THRESHOLD)\n",
    "print(f'This gives a \\'disorder\\' fraction of {100*dFrac:0.1f}%')"
   ]
  },
  {
   "cell_type": "markdown",
   "id": "7cccc03e-d76e-44c2-88c6-d142790f7ad6",
   "metadata": {},
   "source": [
    "##### Now Check Where SubSequencing Is Required"
   ]
  },
  {
   "cell_type": "code",
   "execution_count": 7,
   "id": "c588981f-07e9-4534-9c12-5bac7e3fd889",
   "metadata": {},
   "outputs": [
    {
     "name": "stdout",
     "output_type": "stream",
     "text": [
      "150 residues, 0 of which 'disordered' (below pLDDT threshold)\n"
     ]
    }
   ],
   "source": [
    "# Take 200 Residues and check lengths\n",
    "pLDDTs = DISORDER.getpLDDTsSubSequenceFromAlphaFoldPDBModel(test_model, \n",
    "                                                            startRes=51, \n",
    "                                                            endRes=200)\n",
    "pLDDTs_belowThreshold = pLDDTs[pLDDTs <= pLDDT_THRESHOLD]\n",
    "print(f'{len(pLDDTs)} residues, {len(pLDDTs_belowThreshold)} of which \\'disordered\\' (below pLDDT threshold)')"
   ]
  },
  {
   "cell_type": "markdown",
   "id": "fbcc3e60-aca1-4e7d-84e3-765b0860fd12",
   "metadata": {},
   "source": [
    "##### Now test some sub-sequencing errors"
   ]
  },
  {
   "cell_type": "code",
   "execution_count": 8,
   "id": "df694075-1c52-4358-a919-9bf28b1d9d23",
   "metadata": {},
   "outputs": [
    {
     "name": "stderr",
     "output_type": "stream",
     "text": [
      "test_SubSequenceLargerThanAlphaFoldSequence (__main__.TestSubSequencing) ... ok\n",
      "test_SubSequenceOutsideOfAlphaFoldSequence (__main__.TestSubSequencing) ... ok\n",
      "test_SubSequenceStartGreaterThanFinish (__main__.TestSubSequencing) ... ok\n",
      "\n",
      "----------------------------------------------------------------------\n",
      "Ran 3 tests in 0.003s\n",
      "\n",
      "OK\n"
     ]
    },
    {
     "data": {
      "text/plain": [
       "<unittest.main.TestProgram at 0x1c6a1b84550>"
      ]
     },
     "execution_count": 8,
     "metadata": {},
     "output_type": "execute_result"
    }
   ],
   "source": [
    "import unittest\n",
    "\n",
    "class TestSubSequencing(unittest.TestCase):\n",
    "    _SubSequenceIllogical = lambda: DISORDER.getpLDDTsSubSequenceFromAlphaFoldPDBModel(test_model,\n",
    "                                                                                   startRes=5,\n",
    "                                                                                   endRes=1)\n",
    "    _LargerSubSequence= lambda: DISORDER.getpLDDTsSubSequenceFromAlphaFoldPDBModel(test_model,\n",
    "                                                                                   startRes=1,\n",
    "                                                                                   endRes=200000)\n",
    "    _SubSequenceOutOfBounds= lambda: DISORDER.getpLDDTsSubSequenceFromAlphaFoldPDBModel(test_model,\n",
    "                                                                                        startRes=200000,\n",
    "                                                                                        endRes=200005)\n",
    "    def test_SubSequenceStartGreaterThanFinish(self):\n",
    "        self.assertRaises(Exception, self._SubSequenceIllogical)\n",
    "        \n",
    "    def test_SubSequenceLargerThanAlphaFoldSequence(self):\n",
    "        self.assertRaises(Exception, self._LargerSubSequence)\n",
    "        \n",
    "    def test_SubSequenceOutsideOfAlphaFoldSequence(self):\n",
    "        self.assertRaises(Exception, self._SubSequenceOutOfBounds)\n",
    "        \n",
    "unittest.main(argv=[''], verbosity=2, exit=False)"
   ]
  }
 ],
 "metadata": {
  "kernelspec": {
   "display_name": "Python [conda env:bio_play]",
   "language": "python",
   "name": "conda-env-bio_play-py"
  },
  "language_info": {
   "codemirror_mode": {
    "name": "ipython",
    "version": 3
   },
   "file_extension": ".py",
   "mimetype": "text/x-python",
   "name": "python",
   "nbconvert_exporter": "python",
   "pygments_lexer": "ipython3",
   "version": "3.10.8"
  }
 },
 "nbformat": 4,
 "nbformat_minor": 5
}
